{
 "cells": [
  {
   "cell_type": "markdown",
   "metadata": {},
   "source": [
    "# Assignment8\n",
    "\n",
    "## Group members\n",
    "\n",
    "- Erdem Halil - gushaliler@student.gu.se"
   ]
  },
  {
   "cell_type": "markdown",
   "metadata": {},
   "source": [
    "#### Problem 1"
   ]
  },
  {
   "cell_type": "code",
   "execution_count": 34,
   "metadata": {},
   "outputs": [
    {
     "name": "stdout",
     "output_type": "stream",
     "text": [
      "...True...\n",
      "True\n",
      "True\n",
      "True\n",
      "True\n",
      "True\n",
      "True\n",
      "True\n",
      "...False...\n",
      "False\n",
      "False\n",
      "False\n"
     ]
    }
   ],
   "source": [
    "def check_palindrome(input):\n",
    "    # If the input is a string, convert to lowercase\n",
    "    # If not, cast it to a string\n",
    "    if isinstance(input, str):\n",
    "        input = input.lower()\n",
    "    else:\n",
    "        input = str(input)\n",
    "\n",
    "    # Split the input into two halves for stack and queue\n",
    "    middle = len(input) // 2\n",
    "    stack_half = input[:middle]\n",
    "    queue_half = input[-middle:]    # If input length is an odd number, ignore the middle element\n",
    "\n",
    "    # Create a stack and a queue\n",
    "    # Both implementet as simple Python built-in lists\n",
    "    stack = []\n",
    "    queue = []\n",
    "\n",
    "    # Push elements onto the stack\n",
    "    for char in stack_half:\n",
    "        stack.append(char)\n",
    "\n",
    "    # Enqueue elements into the queue\n",
    "    for char in queue_half:\n",
    "        queue.append(char)\n",
    "\n",
    "    # Compare elements from the stack and queue\n",
    "    while stack and queue:\n",
    "        if stack.pop() != queue.pop(0):\n",
    "            return False\n",
    "    \n",
    "    return True\n",
    "    \n",
    "if __name__ == \"__main__\":\n",
    "    # print(\"This program checks if your text is a palindrome!\")\n",
    "    # text = input(’Please enter your text: ’ )\n",
    "    # check_palindrome(text)\n",
    "    # True\n",
    "    print(\"...True...\")\n",
    "    print(check_palindrome(\"tattarrattat\"))\n",
    "    print(check_palindrome(\"Able was I ere I saw Elba\"))\n",
    "    print(check_palindrome(\"jajjjjaj\"))\n",
    "    print(check_palindrome(\"jajjjaj\"))\n",
    "    print(check_palindrome(\"jaJjjaJ\"))\n",
    "    print(check_palindrome(\"1881\"))\n",
    "    print(check_palindrome(\"181\"))\n",
    "    # False\n",
    "    print(\"...False...\")\n",
    "    print(check_palindrome(\"jaxxj\"))\n",
    "    print(check_palindrome(\"jajaja\"))\n",
    "    print(check_palindrome(\"18818\"))"
   ]
  },
  {
   "cell_type": "markdown",
   "metadata": {},
   "source": [
    "#### Problem 2"
   ]
  }
 ],
 "metadata": {
  "kernelspec": {
   "display_name": "base",
   "language": "python",
   "name": "python3"
  },
  "language_info": {
   "codemirror_mode": {
    "name": "ipython",
    "version": 3
   },
   "file_extension": ".py",
   "mimetype": "text/x-python",
   "name": "python",
   "nbconvert_exporter": "python",
   "pygments_lexer": "ipython3",
   "version": "3.11.4"
  }
 },
 "nbformat": 4,
 "nbformat_minor": 2
}
