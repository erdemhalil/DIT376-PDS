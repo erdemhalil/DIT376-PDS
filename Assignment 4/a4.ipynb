{
 "cells": [
  {
   "cell_type": "markdown",
   "metadata": {},
   "source": [
    "# Assignment 4\n",
    "\n",
    "## Group members\n",
    "\n",
    "- Erdem Halil - gushaliler@student.gu.se"
   ]
  },
  {
   "cell_type": "markdown",
   "metadata": {},
   "source": [
    "## Problem 1"
   ]
  },
  {
   "cell_type": "code",
   "execution_count": 28,
   "metadata": {},
   "outputs": [
    {
     "name": "stdout",
     "output_type": "stream",
     "text": [
      "I1t1’1s1 1_2s1o5_2 1w1o1w3!3\n",
      "It’s __sooooo__ wowww!!!\n",
      "‘5´6*7^5\n",
      "‘‘‘‘‘´´´´´´*******^^^^^\n"
     ]
    }
   ],
   "source": [
    "import re\n",
    "\n",
    "def encode(str):\n",
    "    # Match a non-digit character (\\D) followed by itself (\\1*) zero or more times\n",
    "    pattern = r'(\\D)\\1*'\n",
    "    for match in re.finditer(pattern, str):\n",
    "        # Get the letter and its count\n",
    "        # match.group(1) returns the letter\n",
    "        # match.group(0) returns the group of letters: \"ooooo\"\n",
    "        letter, count = match.group(1), len(match.group(0))\n",
    "        yield f\"{letter}{count}\"\n",
    "\n",
    "def decode(s):\n",
    "    # Match a non-digit character (\\D) followed by one or more digits (\\d+)\n",
    "    pattern = r'(\\D)(\\d+)'\n",
    "    for match in re.finditer(pattern, s):\n",
    "        # Get the letter and its count as integers\n",
    "        # match.group:\n",
    "        # -> 0 = group of letter and digit\n",
    "        # -> 1 = letter\n",
    "        # -> 2 = digit\n",
    "        letter, count = match.group(1), int(match.group(2))\n",
    "        yield letter * count\n",
    "\n",
    "# Examples from the assignment\n",
    "s = \"It’s __sooooo__ wowww!!!\"\n",
    "encoded = ''.join(encode(s))\n",
    "print(encoded)\n",
    "\n",
    "decoded = ''.join(decode(encoded))\n",
    "print(decoded)\n",
    "\n",
    "s = \"‘‘‘‘‘´´´´´´*******^^^^^\"\n",
    "encoded = ''.join(encode(s))\n",
    "print(encoded)\n",
    "decoded = ''.join(decode(encoded))\n",
    "print(decoded)"
   ]
  },
  {
   "cell_type": "markdown",
   "metadata": {},
   "source": [
    "## Problem 2\n",
    "\n",
    "#### Connection between the two algorithms\n",
    "\n",
    "The code presents two sorting algorithms(sort1 and sort2). They are distinct sorting algorithms, yet they are connected in the sense that sort2 utilizes `sort1` to sort small chunks in the list.\n",
    "\n",
    "`sort1` is an implementation of the Insertion sort algorithm, whereas `sort2` is an implementation of Merge sort.\n",
    "\n",
    "#### Complexity of `sort1`\n",
    "\n",
    "- Best Case: `O(n)` - occurs when the input list is already sorted, the inner while loop never executes so we just go through the length of the list\n",
    "\n",
    "- Worst Case: `O(n^2)` - occurs when the input list is sorted in reverse order, the inner while loop executes in every iteration and for each element in the list we need to compare and swap with every other element in the list\n",
    "\n",
    "- Average Case: `O(n^2)` - the number of comparisons and swaps depends on the distribution of the input data, the algorithm compares and swaps elements until they are in their correct sorted positions.\n",
    "\n",
    "#### Complexity of `sort2`\n",
    "\n",
    "- Best Case: `O(n log n)` - even if the input is already sorted, the algorithm still divides the list into smaller sublists and merges them, resulting in a time complexity of O(n log n).\n",
    "\n",
    "- Worst Case: `O(n log n)` - even if the input is reverse sorted, the input list needs to be divided into individual elements and then merged.\n",
    "\n",
    "- Average Case: `O(n log n)` - Merge Sort has a consistent time complexity, regardless of the input distribution, it always divides the input into halves and then merges them.\n",
    "\n",
    "### Comparison, pros and cons of the two algorithms\n",
    "\n",
    "`sort1` (Insertion Sort):\n",
    "\n",
    "Pros:\n",
    "- Compared to other sorting algorithms, the code is relatively simple and easy to understand.\n",
    "- Swapping is in-place so it's memory efficient\n",
    "- Performs really well for small or partially sorted input. (it's being used in some implementations of Quicksort for smaller subarrays)\n",
    "\n",
    "Cons:\n",
    "- O(n^2) complexity means that it's inefficient for larger unsorted inputs\n",
    "\n",
    "`sort2` (Merge Sort):\n",
    "\n",
    "Pros:\n",
    "- Preserves the relative order of equal elements.\n",
    "- Guarantees performance with consistent O(n log n) complexity, making it efficient for large datasets.\n",
    "\n",
    "Cons:\n",
    "- Requires additional memory for merging, can be problematic in limited memory environments\n",
    "- The code is hard to understand for beginners."
   ]
  }
 ],
 "metadata": {
  "kernelspec": {
   "display_name": "base",
   "language": "python",
   "name": "python3"
  },
  "language_info": {
   "codemirror_mode": {
    "name": "ipython",
    "version": 3
   },
   "file_extension": ".py",
   "mimetype": "text/x-python",
   "name": "python",
   "nbconvert_exporter": "python",
   "pygments_lexer": "ipython3",
   "version": "3.11.4"
  },
  "orig_nbformat": 4
 },
 "nbformat": 4,
 "nbformat_minor": 2
}
