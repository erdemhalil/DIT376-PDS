{
 "cells": [
  {
   "cell_type": "code",
   "execution_count": 4,
   "metadata": {},
   "outputs": [
    {
     "name": "stdout",
     "output_type": "stream",
     "text": [
      "Perimeter: 18\n",
      "Area: 20\n",
      "Diagonal length: 6.4031242374328485\n"
     ]
    }
   ],
   "source": [
    "import math\n",
    "\n",
    "def main():\n",
    "    len = int(input(\"Please enter the length of the rectangle:\"))\n",
    "    wd = int(input(\"Please enter the width of the rectangle:\"))\n",
    "    \n",
    "    per = get_perimeter(len, wd)\n",
    "    print(f\"Perimeter: {per}\")\n",
    "\n",
    "    area = get_area(len, wd)\n",
    "    print(f\"Area: {area}\")\n",
    "\n",
    "    diag = get_diagonal(len, wd)\n",
    "    print(f\"Diagonal length: {diag}\")\n",
    "\n",
    "def get_perimeter(len, wd):\n",
    "    return 2 * len + 2 * wd\n",
    "\n",
    "def get_area(len, wd):\n",
    "    return len * wd\n",
    "\n",
    "def get_diagonal(len, wd): \n",
    "    return math.sqrt(len * len + wd * wd)\n",
    "\n",
    "if __name__ == main():\n",
    "    main()\n"
   ]
  }
 ],
 "metadata": {
  "kernelspec": {
   "display_name": "Python 3 (ipykernel)",
   "language": "python",
   "name": "python3"
  },
  "language_info": {
   "codemirror_mode": {
    "name": "ipython",
    "version": 3
   },
   "file_extension": ".py",
   "mimetype": "text/x-python",
   "name": "python",
   "nbconvert_exporter": "python",
   "pygments_lexer": "ipython3",
   "version": "3.11.4"
  }
 },
 "nbformat": 4,
 "nbformat_minor": 2
}
