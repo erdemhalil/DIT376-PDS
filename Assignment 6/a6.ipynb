{
 "cells": [
  {
   "cell_type": "markdown",
   "metadata": {},
   "source": [
    "# Assignment 6\n",
    "\n",
    "## Group members\n",
    "\n",
    "- Erdem Halil - gushaliler@student.gu.se"
   ]
  },
  {
   "cell_type": "markdown",
   "metadata": {},
   "source": [
    "## Problem 1"
   ]
  },
  {
   "cell_type": "code",
   "execution_count": null,
   "metadata": {},
   "outputs": [],
   "source": [
    "import math\n",
    "\n",
    "class Graph:\n",
    "    def __init__(self, gdict={}):\n",
    "        self.gdict = gdict\n",
    "        self.colour = {}\n",
    "        self.distance = {}\n",
    "        self.predecessor = {}\n",
    "        self.finish = {}\n",
    "\n",
    "    def get_vertices(self):\n",
    "        return list(self.gdict.keys())\n",
    "\n",
    "    def get_edges(self):\n",
    "        edges = []\n",
    "        for vertex in self.gdict:\n",
    "            for next_vertex in self.gdict[vertex]:\n",
    "                # use tuple instead of set\n",
    "                if (vertex, next_vertex) not in edges:\n",
    "                    edges.append((vertex, next_vertex))\n",
    "        return edges\n",
    "\n",
    "    def print_path(self, s, v):\n",
    "        if v in self.gdict.keys():\n",
    "            if v == s:\n",
    "                print(s)\n",
    "            elif self.predecessor[v] == None:\n",
    "                print(\"There is no path from\", s, \"to\", v, \"exists.\")\n",
    "            else:\n",
    "                self.print_path(s, self.predecessor[v])\n",
    "                print(v)\n",
    "        else:\n",
    "            print(\"Node with key\", v, \"is not in the graph.\")\n",
    "\n",
    "    # initialise_single_source runs in O(V)\n",
    "    def initialise_single_source(self, s):\n",
    "        for v in self.get_vertices():\n",
    "            self.distance[v] = math.inf\n",
    "            self.predecessor[v] = None\n",
    "        self.distance[s] = 0\n",
    "\n",
    "    def get_weight(self, u, v):\n",
    "        return self.gdict[u][v]\n",
    "\n",
    "    def relax(self, u, v):\n",
    "        if self.distance[v] > self.distance[u] + self.get_weight(u, v):\n",
    "            self.distance[v] = self.distance[u] + self.get_weight(u, v)\n",
    "            self.predecessor[v] = u\n",
    "\n",
    "    def shortest_path_dijkstra(self, s, v):\n",
    "        print(\"TODO\")\n",
    "\n",
    "    def shortest_path_dag(self, s, v):\n",
    "        print(\"TODO\")\n",
    "    \n",
    "    "
   ]
  },
  {
   "cell_type": "code",
   "execution_count": null,
   "metadata": {},
   "outputs": [],
   "source": [
    "# Input graphs\n",
    "adjacency = {\n",
    "    \"r\": {\"s\": 5, \"t\": 3},\n",
    "    \"s\": {\"x\": 6, \"t\": 2},\n",
    "    \"t\": {\"x\": 7, \"y\": 4, \"z\": 2},\n",
    "    \"x\": {\"y\": -1, \"z\": 1},\n",
    "    \"y\": {\"z\": -2},\n",
    "    \"z\": {}\n",
    "}\n",
    "\n",
    "adjacency2 = {\n",
    "    \"s\": {\"t\": 5, \"y\": 10},\n",
    "    \"t\": {\"x\": 1, \"y\": 2},\n",
    "    \"x\": {\"z\": 4},\n",
    "    \"y\": {\"x\": 9,\"t\": 3, \"z\": 2},\n",
    "    \"z\": {\"s\": 7,\"x\": 6}\n",
    "}\n",
    "\n",
    "graph = Graph(adjacency2)\n",
    "graph2 = Graph(adjacency)\n",
    "graph.shortest_path_dijkstra(\"s\", \"z\") # This is just a method to print out the output (total path).\n",
    "graph2.shortest_path_dag(\"s\", \"z\") # This is just a method to print out the output (total path)."
   ]
  }
 ],
 "metadata": {
  "language_info": {
   "name": "python"
  }
 },
 "nbformat": 4,
 "nbformat_minor": 2
}
