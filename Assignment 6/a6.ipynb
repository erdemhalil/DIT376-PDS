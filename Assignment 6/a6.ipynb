{
 "cells": [
  {
   "cell_type": "markdown",
   "metadata": {},
   "source": [
    "# Assignment 6\n",
    "\n",
    "## Group members\n",
    "\n",
    "- Erdem Halil - gushaliler@student.gu.se"
   ]
  },
  {
   "cell_type": "markdown",
   "metadata": {},
   "source": [
    "## Problem 1\n",
    "\n",
    "#### Implement Dijkstra's and Shortest path in DAG algorithms"
   ]
  },
  {
   "cell_type": "code",
   "execution_count": 259,
   "metadata": {},
   "outputs": [
    {
     "name": "stdout",
     "output_type": "stream",
     "text": [
      "Shortest path from \"s\" to \"z\" takes 9 minutes\n",
      "Path:\n",
      "s\n",
      "t\n",
      "y\n",
      "z\n",
      "Shortest path from \"s\" to \"z\" takes 3 minutes\n",
      "Path:\n",
      "s\n",
      "x\n",
      "y\n",
      "z\n"
     ]
    }
   ],
   "source": [
    "import math\n",
    "\n",
    "class Graph:\n",
    "    def __init__(self, gdict={}):\n",
    "        self.gdict = gdict\n",
    "        self.colour = {}\n",
    "        self.distance = {}\n",
    "        self.predecessor = {}\n",
    "        self.finish = {}\n",
    "\n",
    "    def get_vertices(self):\n",
    "        return list(self.gdict.keys())\n",
    "\n",
    "    def get_edges(self):\n",
    "        edges = []\n",
    "        for vertex in self.gdict:\n",
    "            for next_vertex in self.gdict[vertex]:\n",
    "                # use tuple instead of set\n",
    "                if (vertex, next_vertex) not in edges:\n",
    "                    edges.append((vertex, next_vertex))\n",
    "        return edges\n",
    "\n",
    "    def print_path(self, s, v):\n",
    "        if v in self.gdict.keys():\n",
    "            if v == s:\n",
    "                print(s)\n",
    "            elif self.predecessor[v] == None:\n",
    "                print(\"There is no path from\", s, \"to\", v, \"exists.\")\n",
    "            else:\n",
    "                self.print_path(s, self.predecessor[v])\n",
    "                print(v)\n",
    "        else:\n",
    "            print(\"Node with key\", v, \"is not in the graph.\")\n",
    "\n",
    "    # initialise_single_source runs in O(V)\n",
    "    def initialise_single_source(self, s):\n",
    "        for v in self.get_vertices():\n",
    "            self.distance[v] = math.inf\n",
    "            self.predecessor[v] = None\n",
    "        self.distance[s] = 0\n",
    "\n",
    "    def get_weight(self, u, v):\n",
    "        return self.gdict[u][v]\n",
    "\n",
    "    def relax(self, u, v):\n",
    "        if self.distance[v] > self.distance[u] + self.get_weight(u, v):\n",
    "            self.distance[v] = self.distance[u] + self.get_weight(u, v)\n",
    "            self.predecessor[v] = u\n",
    "\n",
    "    def shortest_path_dijkstra(self, s, v):\n",
    "        # Initialize the distances and predecessors\n",
    "        self.initialise_single_source(s)\n",
    "        # Set to keep track of visited vertices\n",
    "        visited = set()\n",
    "        # Priority queue (implemented as a list of tuples)\n",
    "        queue = [(0, s)]\n",
    "\n",
    "        # While the queue is not empty\n",
    "        while queue:\n",
    "            # Get the vertex with the minimum distance from the queue\n",
    "            distance_u, u = min(queue)\n",
    "            # Remove the vertex from the queue\n",
    "            queue.remove((distance_u, u))\n",
    "            # Mark the vertex as visited\n",
    "            visited.add(u)\n",
    "\n",
    "            # Relax edges from the current vertex to its neighbors\n",
    "            for neighbor in self.gdict[u]:\n",
    "                if neighbor not in visited:\n",
    "                    self.relax(u, neighbor)\n",
    "                    # Add the neighbor to the queue with updated distance\n",
    "                    queue.append((self.distance[neighbor], neighbor))\n",
    "\n",
    "        print(f'Shortest path from \"{s}\" to \"{v}\" takes {self.distance[v]} minutes')\n",
    "        print(\"Path:\")\n",
    "        self.print_path(s, v)\n",
    "\n",
    "    def shortest_path_dag(self, s, v):\n",
    "        # Set to keep track of visited vertices\n",
    "        visited = set()\n",
    "        # List to store the topological order\n",
    "        topological_order = []\n",
    "\n",
    "        def visit(vertex):\n",
    "            # Mark the current vertex as visited\n",
    "            visited.add(vertex)\n",
    "\n",
    "            # Visit all neighbours\n",
    "            for neighbor in self.gdict[vertex]:\n",
    "                if neighbor not in visited:\n",
    "                    visit(neighbor)\n",
    "            # Add the current vertex to the list\n",
    "            topological_order.append(vertex)\n",
    "\n",
    "        # Go through all vertices in the graph\n",
    "        for vertex in self.get_vertices():\n",
    "            if vertex not in visited:\n",
    "                # DFS from all unvisited vertices\n",
    "                visit(vertex)\n",
    "        \n",
    "        # Return the reverse of the list to get the topological order\n",
    "        topological_order = topological_order[::-1]\n",
    "        # Initialize the distances and predecessors\n",
    "        self.initialise_single_source(s)\n",
    "\n",
    "        # Relax edges in topological order\n",
    "        for node in topological_order:\n",
    "            for neighbor in self.gdict[node]:\n",
    "                self.relax(node, neighbor)\n",
    "\n",
    "        print(f'Shortest path from \"{s}\" to \"{v}\" takes {self.distance[v]} minutes')\n",
    "        print(\"Path:\")\n",
    "        self.print_path(s, v)\n",
    "\n",
    "# Input graphs\n",
    "adjacency = {\n",
    "    \"r\": {\"s\": 5, \"t\": 3},\n",
    "    \"s\": {\"x\": 6, \"t\": 2},\n",
    "    \"t\": {\"x\": 7, \"y\": 4, \"z\": 2},\n",
    "    \"x\": {\"y\": -1, \"z\": 1},\n",
    "    \"y\": {\"z\": -2},\n",
    "    \"z\": {}\n",
    "}\n",
    "\n",
    "adjacency2 = {\n",
    "    \"s\": {\"t\": 5, \"y\": 10},\n",
    "    \"t\": {\"x\": 1, \"y\": 2},\n",
    "    \"x\": {\"z\": 4},\n",
    "    \"y\": {\"x\": 9,\"t\": 3, \"z\": 2},\n",
    "    \"z\": {\"s\": 7,\"x\": 6}\n",
    "}\n",
    "\n",
    "graph = Graph(adjacency2)\n",
    "graph2 = Graph(adjacency)\n",
    "graph.shortest_path_dijkstra(\"s\", \"z\") # This is just a method to print out the output (total path).\n",
    "graph2.shortest_path_dag(\"s\", \"z\") # This is just a method to print out the output (total path)."
   ]
  },
  {
   "cell_type": "markdown",
   "metadata": {},
   "source": [
    "## Problem 2\n",
    "\n",
    "#### Put all the data about the tram lines, in both directions, into a data structure suitable for route finding purposes"
   ]
  },
  {
   "cell_type": "code",
   "execution_count": 260,
   "metadata": {},
   "outputs": [
    {
     "name": "stdout",
     "output_type": "stream",
     "text": [
      "{'opaltorget': {'smaragdgatan': 1}, 'smaragdgatan': {'opaltorget': 1, 'briljantgatan': 1}, 'briljantgatan': {'smaragdgatan': 1, 'frölunda torg spårvagn': 1}, 'frölunda torg spårvagn': {'briljantgatan': 1, 'positivgatan': 1}, 'positivgatan': {'frölunda torg spårvagn': 1, 'musikvägen': 1}, 'musikvägen': {'positivgatan': 1, 'nymilsgatan': 1}, 'nymilsgatan': {'musikvägen': 1, 'lantmilsgatan': 1}, 'lantmilsgatan': {'nymilsgatan': 1, 'axel dahlströms torg': 2}, 'axel dahlströms torg': {'lantmilsgatan': 2, 'marklandsgatan': 1}, 'marklandsgatan': {'axel dahlströms torg': 1, 'botaniska trädgården': 3, 'bokekullsgatan': 1, 'mariaplan': 5, 'botaniska trädgård': 3}, 'botaniska trädgården': {'marklandsgatan': 3, 'linnéplatsen': 2, 'sahlgrenska huvudentré': 3}, 'linnéplatsen': {'botaniska trädgården': 2, 'olivedalsgatan': 1, 'sahlgrenska huvudentré': 3}, 'olivedalsgatan': {'linnéplatsen': 1, 'prinsgatan': 2, 'seminariegatan': 2}, 'prinsgatan': {'olivedalsgatan': 2, 'järntorget': 1}, 'järntorget': {'prinsgatan': 1, 'stenpiren': 2, 'masthuggstorget': 2, 'hagakyrkan': 3}, 'stenpiren': {'järntorget': 2, 'brunnsparken': 3}, 'brunnsparken': {'stenpiren': 3, 'centralstationen': 2, 'kungsportsplatsen': 1, 'domkyrkan': 2, 'nordstan': 2, 'lilla bommen': 0}, 'centralstationen': {'brunnsparken': 2, 'ullevi norra': 3, 'ullevi södra': 3, 'gamlestads torg': 6}, 'ullevi norra': {'centralstationen': 3, 'svingeln': 2, 'ullevi södra': 2}, 'svingeln': {'ullevi norra': 2, 'olskrokstorget': 1}, 'olskrokstorget': {'svingeln': 1, 'redbergsplatsen': 1}, 'redbergsplatsen': {'olskrokstorget': 1, 'stockholmsgatan': 1, 'ejdergatan': 1}, 'stockholmsgatan': {'redbergsplatsen': 1, 'härlanda': 1}, 'härlanda': {'stockholmsgatan': 1, 'munkebäckstorget': 2, 'solrosgatan': 2}, 'munkebäckstorget': {'härlanda': 2, 'ättehögsgatan': 0, 'solrosgatan': 1}, 'ättehögsgatan': {'munkebäckstorget': 0, 'kaggeledstorget': 1}, 'kaggeledstorget': {'ättehögsgatan': 1, 'tingvallsvägen': 1}, 'tingvallsvägen': {'kaggeledstorget': 1, 'östra sjukhuset': 1}, 'östra sjukhuset': {'tingvallsvägen': 1}, 'bokekullsgatan': {'marklandsgatan': 1, 'högsbogatan': 1}, 'högsbogatan': {'bokekullsgatan': 1, 'klintens väg': 1}, 'klintens väg': {'högsbogatan': 1, 'godhemsgatan': 1}, 'godhemsgatan': {'klintens väg': 1, 'mariaplan': 1, 'ekedal': 1}, 'mariaplan': {'godhemsgatan': 1, 'ostindiegatan': 1, 'sannaplan': 1, 'marklandsgatan': 5}, 'ostindiegatan': {'mariaplan': 1, 'vagnhallen majorna': 1, 'sannaplan': 1}, 'vagnhallen majorna': {'ostindiegatan': 1, 'jaegerdorffsplatsen': 1}, 'jaegerdorffsplatsen': {'vagnhallen majorna': 1, 'chapmans torg': 1}, 'chapmans torg': {'jaegerdorffsplatsen': 1, 'kaptensgatan': 2}, 'kaptensgatan': {'chapmans torg': 2, 'stigbergstorget': 2}, 'stigbergstorget': {'kaptensgatan': 2, 'masthuggstorget': 2, 'fjällgatan': 2}, 'masthuggstorget': {'stigbergstorget': 2, 'järntorget': 2}, 'hagakyrkan': {'järntorget': 3, 'vasa viktoriagatan': 2, 'grönsakstorget': 2}, 'vasa viktoriagatan': {'hagakyrkan': 2, 'vasaplatsen': 1, 'handelshögskolan': 2}, 'vasaplatsen': {'vasa viktoriagatan': 1, 'valand': 1, 'grönsakstorget': 1, 'kapellplatsen': 2}, 'valand': {'vasaplatsen': 1, 'kungsportsplatsen': 2, 'berzeliigatan': 2}, 'kungsportsplatsen': {'valand': 2, 'brunnsparken': 1}, 'solrosgatan': {'härlanda': 2, 'sanatoriegatan': 1, 'munkebäckstorget': 1}, 'sanatoriegatan': {'solrosgatan': 1, 'virginsgatan': 1}, 'virginsgatan': {'sanatoriegatan': 1, 'welandergatan': 1}, 'seminariegatan': {'olivedalsgatan': 2, 'brunnsgatan': 1}, 'brunnsgatan': {'seminariegatan': 1, 'handelshögskolan': 1}, 'handelshögskolan': {'brunnsgatan': 1, 'vasa viktoriagatan': 2}, 'grönsakstorget': {'vasaplatsen': 1, 'domkyrkan': 1, 'hagakyrkan': 2}, 'domkyrkan': {'grönsakstorget': 1, 'brunnsparken': 2}, 'ullevi södra': {'centralstationen': 3, 'scandinavium': 2, 'ullevi norra': 2}, 'scandinavium': {'ullevi södra': 2, 'korsvägen': 1}, 'korsvägen': {'scandinavium': 1, 'liseberg södra': 2, 'chalmers': 5, 'liseberg station': 2, 'berzeliigatan': 1}, 'liseberg södra': {'korsvägen': 2, 'almedal': 2}, 'almedal': {'liseberg södra': 2, 'elisedal': 1}, 'elisedal': {'almedal': 1, 'varbergsgatan': 1}, 'varbergsgatan': {'elisedal': 1, 'lana': 1}, 'lana': {'varbergsgatan': 1, 'krokslätts torg': 1}, 'krokslätts torg': {'lana': 1, 'krokslätts fabriker': 1}, 'krokslätts fabriker': {'krokslätts torg': 1, 'lackarebäck': 1}, 'lackarebäck': {'krokslätts fabriker': 1, 'mölndals sjukhus': 1}, 'mölndals sjukhus': {'lackarebäck': 1, 'mölndals innerstad': 1}, 'mölndals innerstad': {'mölndals sjukhus': 1}, 'varmfrontsgatan': {'temperaturgatan': 1}, 'temperaturgatan': {'varmfrontsgatan': 1, 'väderilsgatan': 1}, 'väderilsgatan': {'temperaturgatan': 1, 'friskväderstorget': 1}, 'friskväderstorget': {'väderilsgatan': 1, 'önskevädersgatan': 1}, 'önskevädersgatan': {'friskväderstorget': 1, 'mildvädersgatan': 1}, 'mildvädersgatan': {'önskevädersgatan': 1, 'vårväderstorget': 1}, 'vårväderstorget': {'mildvädersgatan': 1, 'sälöfjordsgatan': 1}, 'sälöfjordsgatan': {'vårväderstorget': 1, 'eketrägatan': 1}, 'eketrägatan': {'sälöfjordsgatan': 1, 'gropegårdsgatan': 1}, 'gropegårdsgatan': {'eketrägatan': 1, 'rambergsvallen': 1}, 'rambergsvallen': {'gropegårdsgatan': 1, 'wieselgrensplatsen': 1}, 'wieselgrensplatsen': {'rambergsvallen': 1, 'vågmästareplatsen': 1}, 'vågmästareplatsen': {'wieselgrensplatsen': 1, 'hjalmar brantingsplatsen': 0}, 'hjalmar brantingsplatsen': {'vågmästareplatsen': 0, 'frihamnen': 1}, 'frihamnen': {'hjalmar brantingsplatsen': 1, 'nordstan': 5, 'lilla bommen': 4}, 'nordstan': {'frihamnen': 5, 'brunnsparken': 2}, 'sahlgrenska huvudentré': {'linnéplatsen': 3, 'medicinaregatan': 1, 'botaniska trädgården': 3}, 'medicinaregatan': {'sahlgrenska huvudentré': 1, 'wavrinskys plats': 1, 'sahlgrenska huvud': 1}, 'wavrinskys plats': {'medicinaregatan': 1, 'chalmers': 1, 'doktor fries torg': 1}, 'chalmers': {'wavrinskys plats': 1, 'korsvägen': 5, 'kapellplatsen': 2}, 'ejdergatan': {'redbergsplatsen': 1, 'gamlestads torg': 2}, 'gamlestads torg': {'ejdergatan': 2, 'skf': 1, 'centralstationen': 6, 'hjällbo': 6}, 'skf': {'gamlestads torg': 1, 'bellevue': 2}, 'bellevue': {'skf': 2, 'kviberg': 1}, 'kviberg': {'bellevue': 1, 'beväringsgatan': 1}, 'beväringsgatan': {'kviberg': 1, 'nymånegatan': 1}, 'nymånegatan': {'beväringsgatan': 1, 'runstavsgatan': 1}, 'runstavsgatan': {'nymånegatan': 1, 'kortedala torg': 2}, 'kortedala torg': {'runstavsgatan': 2, 'allhelgonakyrkan': 1}, 'allhelgonakyrkan': {'kortedala torg': 1, 'aprilgatan': 1, 'januarigatan': 1}, 'aprilgatan': {'allhelgonakyrkan': 1}, 'kapellplatsen': {'chalmers': 2, 'vasaplatsen': 2}, 'januarigatan': {'allhelgonakyrkan': 1, 'galileis gata': 2}, 'galileis gata': {'januarigatan': 2, 'teleskopgatan': 1}, 'teleskopgatan': {'galileis gata': 1, 'rymdtorget': 2, 'rymdtorget spårvagn': 2}, 'rymdtorget': {'teleskopgatan': 2, 'komettorget': 1}, 'komettorget': {'rymdtorget': 1, 'rymdtorget spårvagn': 1}, 'welandergatan': {'virginsgatan': 1, 'töpelsgatan': 1}, 'töpelsgatan': {'welandergatan': 1, 'bögatan': 1}, 'bögatan': {'töpelsgatan': 1, 'ekmanska': 1}, 'ekmanska': {'bögatan': 1, 'bäckeliden': 1}, 'bäckeliden': {'ekmanska': 1, 'sankt sigfrids plan': 1}, 'sankt sigfrids plan': {'bäckeliden': 1, 'liseberg station': 1}, 'liseberg station': {'sankt sigfrids plan': 1, 'korsvägen': 2}, 'berzeliigatan': {'korsvägen': 1, 'valand': 2}, 'lilla bommen': {'brunnsparken': 0, 'frihamnen': 4}, 'hjällbo': {'gamlestads torg': 6, 'hammarkullen': 3}, 'hammarkullen': {'hjällbo': 3, 'storås': 1}, 'storås': {'hammarkullen': 1, 'angered centrum': 3}, 'angered centrum': {'storås': 3}, 'saltholmen': {'roddföreningen': 1}, 'roddföreningen': {'saltholmen': 1, 'långedrag': 1}, 'långedrag': {'roddföreningen': 1, 'hinsholmen': 1}, 'hinsholmen': {'långedrag': 1, 'käringberget': 2}, 'käringberget': {'hinsholmen': 2, 'tranered': 1}, 'tranered': {'käringberget': 1, 'hagen': 1}, 'hagen': {'tranered': 1, 'nya varvsallén': 2}, 'nya varvsallén': {'hagen': 2, 'kungssten': 1}, 'kungssten': {'nya varvsallén': 1, 'sandarna': 2}, 'sandarna': {'kungssten': 2, 'sannaplan': 1}, 'sannaplan': {'sandarna': 1, 'mariaplan': 1, 'ostindiegatan': 1}, 'botaniska trädgård': {'marklandsgatan': 3, 'sahlgrenska huvud': 3}, 'sahlgrenska huvud': {'botaniska trädgård': 3, 'medicinaregatan': 1}, 'doktor fries torg': {'wavrinskys plats': 1, 'doktor sydows gata': 2}, 'doktor sydows gata': {'doktor fries torg': 2}, 'ekedal': {'godhemsgatan': 1, 'majvallen': 2}, 'majvallen': {'ekedal': 2, 'fjällgatan': 1}, 'fjällgatan': {'majvallen': 1, 'stigbergstorget': 2}, 'rymdtorget spårvagn': {'teleskopgatan': 2, 'komettorget': 1}}\n",
      "{'angered centrum', 'saltholmen', 'marklandsgatan', 'väderilsgatan', 'kungssten', 'mölndals innerstad', 'varmfrontsgatan', 'aprilgatan', 'doktor sydows gata', 'östra sjukhuset', 'opaltorget', 'axel dahlströms torg', 'komettorget', 'virginsgatan', 'centralstationen', 'frölunda torg spårvagn'}\n",
      "Number of terminal stops: 16\n"
     ]
    }
   ],
   "source": [
    "import tarfile\n",
    "\n",
    "def tar_to_dict(filepath: str):\n",
    "    tram_network = {}   # Dictionary to build the tram network\n",
    "    terminals = set()   # Set to keep track of terminal stations (uniqueness is important)\n",
    "    with tarfile.open(filepath, \"r:*\") as tar:\n",
    "        for file in tar:\n",
    "            if file.name.startswith(\"Data/tram\"):\n",
    "                txt_file = tar.extractfile(file)\n",
    "                lines = txt_file.read().splitlines()\n",
    "\n",
    "                # Go through each line in each file\n",
    "                for i in range(len(lines) - 1):\n",
    "                    # Get the stopname and the time it takes to reach the next stop\n",
    "                    stop, time = lines[i].decode('utf-8', errors='ignore').strip().lower().split(\",\")\n",
    "                    time = int(time)\n",
    "                    # Get the next stopname, omit next time as it's not useful\n",
    "                    next_stop, _ = lines[i + 1].decode('utf-8', errors='ignore').strip().lower().split(\",\")\n",
    "\n",
    "                    # If the stop is not in the dictionary yet, add it and attach it to an empty dict as value\n",
    "                    if tram_network.get(stop) is None:\n",
    "                        tram_network[stop] = {}\n",
    "                    \n",
    "                    # Check if the next stop is already attached to the current stop\n",
    "                    value = tram_network[stop].get(next_stop)\n",
    "                    if value is None or value > time:\n",
    "                        # If it's not or if the existing time is higher than current reading, add/update\n",
    "                        tram_network[stop][next_stop] = time\n",
    "\n",
    "                    # If the next stop is not in the dictionary yet, add it and attach it to an empty dict as value\n",
    "                    # This is for the reverse routes \n",
    "                    if tram_network.get(next_stop) is None:\n",
    "                        tram_network[next_stop] = {}\n",
    "\n",
    "                    # Check if the current stop is already attached to the next stop\n",
    "                    value = tram_network[next_stop].get(stop)\n",
    "                    if value is None or value > time:\n",
    "                        # If it's not or if the existing time is higher than current reading, add/update\n",
    "                        tram_network[next_stop][stop] = time\n",
    "\n",
    "                    # If it's the first or the last stop of the tramline, add it to the set\n",
    "                    if i == 0:  terminals.add(stop)\n",
    "                    if i == len(lines) - 2: terminals.add(next_stop)\n",
    "\n",
    "    return tram_network, terminals\n",
    "\n",
    "tram_network, terminal_stops = tar_to_dict(\"Data_A6.tar.gz\")\n",
    "print(tram_network)\n",
    "print(terminal_stops)\n",
    "print(f\"Number of terminal stops: {len(terminal_stops)}\")"
   ]
  },
  {
   "cell_type": "markdown",
   "metadata": {},
   "source": [
    "#### Given the result from the previous step, write Python code that finds the tram-hubs. A tram-hub is defined as a tram stop that is directly connected to atleast three others."
   ]
  },
  {
   "cell_type": "code",
   "execution_count": 261,
   "metadata": {},
   "outputs": [
    {
     "name": "stdout",
     "output_type": "stream",
     "text": [
      "{'marklandsgatan': {'axel dahlströms torg': 1, 'botaniska trädgården': 3, 'bokekullsgatan': 1, 'mariaplan': 5, 'botaniska trädgård': 3}, 'botaniska trädgården': {'marklandsgatan': 3, 'linnéplatsen': 2, 'sahlgrenska huvudentré': 3}, 'linnéplatsen': {'botaniska trädgården': 2, 'olivedalsgatan': 1, 'sahlgrenska huvudentré': 3}, 'olivedalsgatan': {'linnéplatsen': 1, 'prinsgatan': 2, 'seminariegatan': 2}, 'järntorget': {'prinsgatan': 1, 'stenpiren': 2, 'masthuggstorget': 2, 'hagakyrkan': 3}, 'brunnsparken': {'stenpiren': 3, 'centralstationen': 2, 'kungsportsplatsen': 1, 'domkyrkan': 2, 'nordstan': 2, 'lilla bommen': 0}, 'centralstationen': {'brunnsparken': 2, 'ullevi norra': 3, 'ullevi södra': 3, 'gamlestads torg': 6}, 'ullevi norra': {'centralstationen': 3, 'svingeln': 2, 'ullevi södra': 2}, 'redbergsplatsen': {'olskrokstorget': 1, 'stockholmsgatan': 1, 'ejdergatan': 1}, 'härlanda': {'stockholmsgatan': 1, 'munkebäckstorget': 2, 'solrosgatan': 2}, 'munkebäckstorget': {'härlanda': 2, 'ättehögsgatan': 0, 'solrosgatan': 1}, 'godhemsgatan': {'klintens väg': 1, 'mariaplan': 1, 'ekedal': 1}, 'mariaplan': {'godhemsgatan': 1, 'ostindiegatan': 1, 'sannaplan': 1, 'marklandsgatan': 5}, 'ostindiegatan': {'mariaplan': 1, 'vagnhallen majorna': 1, 'sannaplan': 1}, 'stigbergstorget': {'kaptensgatan': 2, 'masthuggstorget': 2, 'fjällgatan': 2}, 'hagakyrkan': {'järntorget': 3, 'vasa viktoriagatan': 2, 'grönsakstorget': 2}, 'vasa viktoriagatan': {'hagakyrkan': 2, 'vasaplatsen': 1, 'handelshögskolan': 2}, 'vasaplatsen': {'vasa viktoriagatan': 1, 'valand': 1, 'grönsakstorget': 1, 'kapellplatsen': 2}, 'valand': {'vasaplatsen': 1, 'kungsportsplatsen': 2, 'berzeliigatan': 2}, 'solrosgatan': {'härlanda': 2, 'sanatoriegatan': 1, 'munkebäckstorget': 1}, 'grönsakstorget': {'vasaplatsen': 1, 'domkyrkan': 1, 'hagakyrkan': 2}, 'ullevi södra': {'centralstationen': 3, 'scandinavium': 2, 'ullevi norra': 2}, 'korsvägen': {'scandinavium': 1, 'liseberg södra': 2, 'chalmers': 5, 'liseberg station': 2, 'berzeliigatan': 1}, 'frihamnen': {'hjalmar brantingsplatsen': 1, 'nordstan': 5, 'lilla bommen': 4}, 'sahlgrenska huvudentré': {'linnéplatsen': 3, 'medicinaregatan': 1, 'botaniska trädgården': 3}, 'medicinaregatan': {'sahlgrenska huvudentré': 1, 'wavrinskys plats': 1, 'sahlgrenska huvud': 1}, 'wavrinskys plats': {'medicinaregatan': 1, 'chalmers': 1, 'doktor fries torg': 1}, 'chalmers': {'wavrinskys plats': 1, 'korsvägen': 5, 'kapellplatsen': 2}, 'gamlestads torg': {'ejdergatan': 2, 'skf': 1, 'centralstationen': 6, 'hjällbo': 6}, 'allhelgonakyrkan': {'kortedala torg': 1, 'aprilgatan': 1, 'januarigatan': 1}, 'teleskopgatan': {'galileis gata': 1, 'rymdtorget': 2, 'rymdtorget spårvagn': 2}, 'sannaplan': {'sandarna': 1, 'mariaplan': 1, 'ostindiegatan': 1}}\n",
      "Number of tramhubs: 32\n"
     ]
    }
   ],
   "source": [
    "def get_tram_hubs(tram_dict: dict):\n",
    "    tram_hubs = {}\n",
    "\n",
    "    # Go through the tram network and extract those connected to at least 3 more\n",
    "    for k, v in tram_dict.items():\n",
    "        if len(v) >= 3:\n",
    "            tram_hubs[k] = v\n",
    "            \n",
    "    return tram_hubs\n",
    "\n",
    "tram_hubs = get_tram_hubs(tram_network)\n",
    "print(tram_hubs)\n",
    "print(f\"Number of tramhubs: {len(tram_hubs)}\")"
   ]
  },
  {
   "cell_type": "markdown",
   "metadata": {},
   "source": [
    "####  Write Python code that creates a simplified graph of the tram network whose nodes are the tram-hubs found in the previous step and the terminal stops of each tram line (that is, all non-hub tram stops and non-terminal tram stops should be omitted)."
   ]
  },
  {
   "cell_type": "code",
   "execution_count": 262,
   "metadata": {},
   "outputs": [
    {
     "name": "stdout",
     "output_type": "stream",
     "text": [
      "{'opaltorget': {'smaragdgatan': 1}, 'frölunda torg spårvagn': {'briljantgatan': 1, 'positivgatan': 1}, 'axel dahlströms torg': {'lantmilsgatan': 2, 'marklandsgatan': 1}, 'marklandsgatan': {'axel dahlströms torg': 1, 'botaniska trädgården': 3, 'bokekullsgatan': 1, 'mariaplan': 5, 'botaniska trädgård': 3}, 'centralstationen': {'brunnsparken': 2, 'ullevi norra': 3, 'ullevi södra': 3, 'gamlestads torg': 6}, 'östra sjukhuset': {'tingvallsvägen': 1}, 'virginsgatan': {'sanatoriegatan': 1, 'welandergatan': 1}, 'mölndals innerstad': {'mölndals sjukhus': 1}, 'varmfrontsgatan': {'temperaturgatan': 1}, 'väderilsgatan': {'temperaturgatan': 1, 'friskväderstorget': 1}, 'aprilgatan': {'allhelgonakyrkan': 1}, 'komettorget': {'rymdtorget': 1, 'rymdtorget spårvagn': 1}, 'angered centrum': {'storås': 3}, 'saltholmen': {'roddföreningen': 1}, 'kungssten': {'nya varvsallén': 1, 'sandarna': 2}, 'doktor sydows gata': {'doktor fries torg': 2}}\n"
     ]
    }
   ],
   "source": [
    "def get_terminal_stops(tram_dict: dict, terminal_list: list):\n",
    "    terminals = {}\n",
    "\n",
    "    # Go through the tram network and extract all terminal stations\n",
    "    for k, v in tram_dict.items():\n",
    "        if k in terminal_list:\n",
    "            terminals[k] = v\n",
    "\n",
    "    return terminals\n",
    "\n",
    "terminal_stops = get_terminal_stops(tram_network, terminal_stops)\n",
    "print(terminal_stops)"
   ]
  },
  {
   "cell_type": "code",
   "execution_count": 263,
   "metadata": {},
   "outputs": [
    {
     "name": "stdout",
     "output_type": "stream",
     "text": [
      "{'marklandsgatan': {'axel dahlströms torg': 1, 'botaniska trädgården': 3, 'bokekullsgatan': 1, 'mariaplan': 5, 'botaniska trädgård': 3}, 'botaniska trädgården': {'marklandsgatan': 3, 'linnéplatsen': 2, 'sahlgrenska huvudentré': 3}, 'linnéplatsen': {'botaniska trädgården': 2, 'olivedalsgatan': 1, 'sahlgrenska huvudentré': 3}, 'olivedalsgatan': {'linnéplatsen': 1, 'prinsgatan': 2, 'seminariegatan': 2}, 'järntorget': {'prinsgatan': 1, 'stenpiren': 2, 'masthuggstorget': 2, 'hagakyrkan': 3}, 'brunnsparken': {'stenpiren': 3, 'centralstationen': 2, 'kungsportsplatsen': 1, 'domkyrkan': 2, 'nordstan': 2, 'lilla bommen': 0}, 'centralstationen': {'brunnsparken': 2, 'ullevi norra': 3, 'ullevi södra': 3, 'gamlestads torg': 6}, 'ullevi norra': {'centralstationen': 3, 'svingeln': 2, 'ullevi södra': 2}, 'redbergsplatsen': {'olskrokstorget': 1, 'stockholmsgatan': 1, 'ejdergatan': 1}, 'härlanda': {'stockholmsgatan': 1, 'munkebäckstorget': 2, 'solrosgatan': 2}, 'munkebäckstorget': {'härlanda': 2, 'ättehögsgatan': 0, 'solrosgatan': 1}, 'godhemsgatan': {'klintens väg': 1, 'mariaplan': 1, 'ekedal': 1}, 'mariaplan': {'godhemsgatan': 1, 'ostindiegatan': 1, 'sannaplan': 1, 'marklandsgatan': 5}, 'ostindiegatan': {'mariaplan': 1, 'vagnhallen majorna': 1, 'sannaplan': 1}, 'stigbergstorget': {'kaptensgatan': 2, 'masthuggstorget': 2, 'fjällgatan': 2}, 'hagakyrkan': {'järntorget': 3, 'vasa viktoriagatan': 2, 'grönsakstorget': 2}, 'vasa viktoriagatan': {'hagakyrkan': 2, 'vasaplatsen': 1, 'handelshögskolan': 2}, 'vasaplatsen': {'vasa viktoriagatan': 1, 'valand': 1, 'grönsakstorget': 1, 'kapellplatsen': 2}, 'valand': {'vasaplatsen': 1, 'kungsportsplatsen': 2, 'berzeliigatan': 2}, 'solrosgatan': {'härlanda': 2, 'sanatoriegatan': 1, 'munkebäckstorget': 1}, 'grönsakstorget': {'vasaplatsen': 1, 'domkyrkan': 1, 'hagakyrkan': 2}, 'ullevi södra': {'centralstationen': 3, 'scandinavium': 2, 'ullevi norra': 2}, 'korsvägen': {'scandinavium': 1, 'liseberg södra': 2, 'chalmers': 5, 'liseberg station': 2, 'berzeliigatan': 1}, 'frihamnen': {'hjalmar brantingsplatsen': 1, 'nordstan': 5, 'lilla bommen': 4}, 'sahlgrenska huvudentré': {'linnéplatsen': 3, 'medicinaregatan': 1, 'botaniska trädgården': 3}, 'medicinaregatan': {'sahlgrenska huvudentré': 1, 'wavrinskys plats': 1, 'sahlgrenska huvud': 1}, 'wavrinskys plats': {'medicinaregatan': 1, 'chalmers': 1, 'doktor fries torg': 1}, 'chalmers': {'wavrinskys plats': 1, 'korsvägen': 5, 'kapellplatsen': 2}, 'gamlestads torg': {'ejdergatan': 2, 'skf': 1, 'centralstationen': 6, 'hjällbo': 6}, 'allhelgonakyrkan': {'kortedala torg': 1, 'aprilgatan': 1, 'januarigatan': 1}, 'teleskopgatan': {'galileis gata': 1, 'rymdtorget': 2, 'rymdtorget spårvagn': 2}, 'sannaplan': {'sandarna': 1, 'mariaplan': 1, 'ostindiegatan': 1}, 'opaltorget': {'smaragdgatan': 1}, 'frölunda torg spårvagn': {'briljantgatan': 1, 'positivgatan': 1}, 'axel dahlströms torg': {'lantmilsgatan': 2, 'marklandsgatan': 1}, 'östra sjukhuset': {'tingvallsvägen': 1}, 'virginsgatan': {'sanatoriegatan': 1, 'welandergatan': 1}, 'mölndals innerstad': {'mölndals sjukhus': 1}, 'varmfrontsgatan': {'temperaturgatan': 1}, 'väderilsgatan': {'temperaturgatan': 1, 'friskväderstorget': 1}, 'aprilgatan': {'allhelgonakyrkan': 1}, 'komettorget': {'rymdtorget': 1, 'rymdtorget spårvagn': 1}, 'angered centrum': {'storås': 3}, 'saltholmen': {'roddföreningen': 1}, 'kungssten': {'nya varvsallén': 1, 'sandarna': 2}, 'doktor sydows gata': {'doktor fries torg': 2}}\n",
      "Number of stops in the scaled down network: 46\n"
     ]
    }
   ],
   "source": [
    "# Combine all hubs and terminals by omitting reoccuring ones\n",
    "final_network = tram_hubs | terminal_stops\n",
    "\n",
    "print(final_network)\n",
    "print(f\"Number of stops in the scaled down network: {len(final_network)}\")\n",
    "# The reason why it's 46 is that 2 of the stops are both terminals and hubs"
   ]
  },
  {
   "cell_type": "markdown",
   "metadata": {},
   "source": [
    "#### Test the algorithms you implemented in Problem 1 on this data."
   ]
  },
  {
   "cell_type": "code",
   "execution_count": 264,
   "metadata": {},
   "outputs": [
    {
     "name": "stdout",
     "output_type": "stream",
     "text": [
      "Chalmers to Centralstationen using Dijkstra's:\n",
      "Shortest path from \"chalmers\" to \"centralstationen\" takes 10 minutes\n",
      "Path:\n",
      "chalmers\n",
      "kapellplatsen\n",
      "vasaplatsen\n",
      "grönsakstorget\n",
      "domkyrkan\n",
      "brunnsparken\n",
      "centralstationen\n",
      "\n",
      "Chalmers to Centralstationen using DAG shortest path:\n",
      "Shortest path from \"chalmers\" to \"centralstationen\" takes inf minutes\n",
      "Path:\n",
      "There is no path from chalmers to centralstationen exists.\n",
      "\n",
      "Saltholmen to Chalmers using Dijkstra's:\n",
      "Shortest path from \"saltholmen\" to \"chalmers\" takes 28 minutes\n",
      "Path:\n",
      "saltholmen\n",
      "roddföreningen\n",
      "långedrag\n",
      "hinsholmen\n",
      "käringberget\n",
      "tranered\n",
      "hagen\n",
      "nya varvsallén\n",
      "kungssten\n",
      "sandarna\n",
      "sannaplan\n",
      "mariaplan\n",
      "marklandsgatan\n",
      "botaniska trädgård\n",
      "sahlgrenska huvud\n",
      "medicinaregatan\n",
      "wavrinskys plats\n",
      "chalmers\n",
      "\n",
      "Saltholmen to Chalmers using DAG shortest path:\n",
      "Shortest path from \"saltholmen\" to \"chalmers\" takes inf minutes\n",
      "Path:\n",
      "There is no path from saltholmen to chalmers exists.\n"
     ]
    }
   ],
   "source": [
    "# Test on the entire network\n",
    "graph = Graph(tram_network)\n",
    "\n",
    "print(\"Chalmers to Centralstationen using Dijkstra's:\")\n",
    "graph.shortest_path_dijkstra(\"chalmers\", \"centralstationen\")\n",
    "\n",
    "print(\"\\nChalmers to Centralstationen using DAG shortest path:\")\n",
    "graph.shortest_path_dag(\"chalmers\", \"centralstationen\")\n",
    "\n",
    "print(\"\\nSaltholmen to Chalmers using Dijkstra's:\")\n",
    "graph.shortest_path_dijkstra(\"saltholmen\", \"chalmers\")\n",
    "\n",
    "print(\"\\nSaltholmen to Chalmers using DAG shortest path:\")\n",
    "graph.shortest_path_dag(\"saltholmen\", \"chalmers\")"
   ]
  },
  {
   "cell_type": "code",
   "execution_count": 265,
   "metadata": {},
   "outputs": [
    {
     "name": "stdout",
     "output_type": "stream",
     "text": [
      "\n",
      "Chalmers to Centralstationen using Dijkstra's:\n"
     ]
    },
    {
     "ename": "KeyError",
     "evalue": "'kapellplatsen'",
     "output_type": "error",
     "traceback": [
      "\u001b[1;31m---------------------------------------------------------------------------\u001b[0m",
      "\u001b[1;31mKeyError\u001b[0m                                  Traceback (most recent call last)",
      "\u001b[1;32mc:\\Users\\erdem\\Desktop\\DIT376\\DIT376-PDS\\Assignment 6\\a6.ipynb Cell 13\u001b[0m line \u001b[0;36m5\n\u001b[0;32m      <a href='vscode-notebook-cell:/c%3A/Users/erdem/Desktop/DIT376/DIT376-PDS/Assignment%206/a6.ipynb#X14sZmlsZQ%3D%3D?line=1'>2</a>\u001b[0m graph \u001b[39m=\u001b[39m Graph(final_network)\n\u001b[0;32m      <a href='vscode-notebook-cell:/c%3A/Users/erdem/Desktop/DIT376/DIT376-PDS/Assignment%206/a6.ipynb#X14sZmlsZQ%3D%3D?line=3'>4</a>\u001b[0m \u001b[39mprint\u001b[39m(\u001b[39m\"\u001b[39m\u001b[39m\\n\u001b[39;00m\u001b[39mChalmers to Centralstationen using Dijkstra\u001b[39m\u001b[39m'\u001b[39m\u001b[39ms:\u001b[39m\u001b[39m\"\u001b[39m)\n\u001b[1;32m----> <a href='vscode-notebook-cell:/c%3A/Users/erdem/Desktop/DIT376/DIT376-PDS/Assignment%206/a6.ipynb#X14sZmlsZQ%3D%3D?line=4'>5</a>\u001b[0m graph\u001b[39m.\u001b[39mshortest_path_dijkstra(\u001b[39m\"\u001b[39m\u001b[39mchalmers\u001b[39m\u001b[39m\"\u001b[39m, \u001b[39m\"\u001b[39m\u001b[39mcentralstationen\u001b[39m\u001b[39m\"\u001b[39m)\n\u001b[0;32m      <a href='vscode-notebook-cell:/c%3A/Users/erdem/Desktop/DIT376/DIT376-PDS/Assignment%206/a6.ipynb#X14sZmlsZQ%3D%3D?line=6'>7</a>\u001b[0m \u001b[39mprint\u001b[39m(\u001b[39m\"\u001b[39m\u001b[39m\\n\u001b[39;00m\u001b[39mChalmers to Centralstationen using DAG shortest path:\u001b[39m\u001b[39m\"\u001b[39m)\n\u001b[0;32m      <a href='vscode-notebook-cell:/c%3A/Users/erdem/Desktop/DIT376/DIT376-PDS/Assignment%206/a6.ipynb#X14sZmlsZQ%3D%3D?line=7'>8</a>\u001b[0m graph\u001b[39m.\u001b[39mshortest_path_dag(\u001b[39m\"\u001b[39m\u001b[39mchalmers\u001b[39m\u001b[39m\"\u001b[39m, \u001b[39m\"\u001b[39m\u001b[39mcentralstationen\u001b[39m\u001b[39m\"\u001b[39m)\n",
      "\u001b[1;32mc:\\Users\\erdem\\Desktop\\DIT376\\DIT376-PDS\\Assignment 6\\a6.ipynb Cell 13\u001b[0m line \u001b[0;36m7\n\u001b[0;32m     <a href='vscode-notebook-cell:/c%3A/Users/erdem/Desktop/DIT376/DIT376-PDS/Assignment%206/a6.ipynb#X14sZmlsZQ%3D%3D?line=67'>68</a>\u001b[0m \u001b[39mfor\u001b[39;00m neighbor \u001b[39min\u001b[39;00m \u001b[39mself\u001b[39m\u001b[39m.\u001b[39mgdict[u]:\n\u001b[0;32m     <a href='vscode-notebook-cell:/c%3A/Users/erdem/Desktop/DIT376/DIT376-PDS/Assignment%206/a6.ipynb#X14sZmlsZQ%3D%3D?line=68'>69</a>\u001b[0m     \u001b[39mif\u001b[39;00m neighbor \u001b[39mnot\u001b[39;00m \u001b[39min\u001b[39;00m visited:\n\u001b[1;32m---> <a href='vscode-notebook-cell:/c%3A/Users/erdem/Desktop/DIT376/DIT376-PDS/Assignment%206/a6.ipynb#X14sZmlsZQ%3D%3D?line=69'>70</a>\u001b[0m         \u001b[39mself\u001b[39m\u001b[39m.\u001b[39mrelax(u, neighbor)\n\u001b[0;32m     <a href='vscode-notebook-cell:/c%3A/Users/erdem/Desktop/DIT376/DIT376-PDS/Assignment%206/a6.ipynb#X14sZmlsZQ%3D%3D?line=70'>71</a>\u001b[0m         \u001b[39m# Add the neighbor to the queue with updated distance\u001b[39;00m\n\u001b[0;32m     <a href='vscode-notebook-cell:/c%3A/Users/erdem/Desktop/DIT376/DIT376-PDS/Assignment%206/a6.ipynb#X14sZmlsZQ%3D%3D?line=71'>72</a>\u001b[0m         queue\u001b[39m.\u001b[39mappend((\u001b[39mself\u001b[39m\u001b[39m.\u001b[39mdistance[neighbor], neighbor))\n",
      "\u001b[1;32mc:\\Users\\erdem\\Desktop\\DIT376\\DIT376-PDS\\Assignment 6\\a6.ipynb Cell 13\u001b[0m line \u001b[0;36m4\n\u001b[0;32m     <a href='vscode-notebook-cell:/c%3A/Users/erdem/Desktop/DIT376/DIT376-PDS/Assignment%206/a6.ipynb#X14sZmlsZQ%3D%3D?line=44'>45</a>\u001b[0m \u001b[39mdef\u001b[39;00m \u001b[39mrelax\u001b[39m(\u001b[39mself\u001b[39m, u, v):\n\u001b[1;32m---> <a href='vscode-notebook-cell:/c%3A/Users/erdem/Desktop/DIT376/DIT376-PDS/Assignment%206/a6.ipynb#X14sZmlsZQ%3D%3D?line=45'>46</a>\u001b[0m     \u001b[39mif\u001b[39;00m \u001b[39mself\u001b[39m\u001b[39m.\u001b[39mdistance[v] \u001b[39m>\u001b[39m \u001b[39mself\u001b[39m\u001b[39m.\u001b[39mdistance[u] \u001b[39m+\u001b[39m \u001b[39mself\u001b[39m\u001b[39m.\u001b[39mget_weight(u, v):\n\u001b[0;32m     <a href='vscode-notebook-cell:/c%3A/Users/erdem/Desktop/DIT376/DIT376-PDS/Assignment%206/a6.ipynb#X14sZmlsZQ%3D%3D?line=46'>47</a>\u001b[0m         \u001b[39mself\u001b[39m\u001b[39m.\u001b[39mdistance[v] \u001b[39m=\u001b[39m \u001b[39mself\u001b[39m\u001b[39m.\u001b[39mdistance[u] \u001b[39m+\u001b[39m \u001b[39mself\u001b[39m\u001b[39m.\u001b[39mget_weight(u, v)\n\u001b[0;32m     <a href='vscode-notebook-cell:/c%3A/Users/erdem/Desktop/DIT376/DIT376-PDS/Assignment%206/a6.ipynb#X14sZmlsZQ%3D%3D?line=47'>48</a>\u001b[0m         \u001b[39mself\u001b[39m\u001b[39m.\u001b[39mpredecessor[v] \u001b[39m=\u001b[39m u\n",
      "\u001b[1;31mKeyError\u001b[0m: 'kapellplatsen'"
     ]
    }
   ],
   "source": [
    "# Test on the final network where only hubs and terminals are considered\n",
    "graph = Graph(final_network)\n",
    "\n",
    "print(\"\\nChalmers to Centralstationen using Dijkstra's:\")\n",
    "graph.shortest_path_dijkstra(\"chalmers\", \"centralstationen\")\n",
    "\n",
    "print(\"\\nChalmers to Centralstationen using DAG shortest path:\")\n",
    "graph.shortest_path_dag(\"chalmers\", \"centralstationen\")\n",
    "\n",
    "print(\"\\nSaltholmen to Chalmers using Dijkstra's:\")\n",
    "graph.shortest_path_dijkstra(\"saltholmen\", \"chalmers\")\n",
    "\n",
    "print(\"\\nSaltholmen to Chalmers using DAG shortest path:\")\n",
    "graph.shortest_path_dag(\"saltholmen\", \"chalmers\")"
   ]
  },
  {
   "cell_type": "markdown",
   "metadata": {},
   "source": [
    "#### Observations\n",
    "\n",
    "- Casing for some of the stop names was inconsistent so I've converted every name to lowercase.\n",
    "    - There is a possible edge case that I haven't addressed - `botaniska trädgården` and `botaniska trädgård` appear for `marklandsgatan`. I am not sure if those are two different stops or it's just a naming error.\n",
    "- For some of the stops, some of the trams have different travel times although it's the exact same route. As a result, I've decided to keep the lowest travel time.\n",
    "- As per the assignment description: `(the last line of a file contains the name of the terminal tram stop for that tram line, and the value “0”)`. Judging by this statement a tram would have only one terminal stop when in fact it should be two as trams go both ways. I've considered both the first and the last stops to be a terminal one. \n",
    "\n",
    "\n",
    "I have presented results with both complete and scaled down network. I anticipated that DAG shortest part algorithm may not work as the graph built by the network data could feature loops (cycles) and as the name suggests, DAG shortest path algorithm is built for Directed Acyclic Graphs. I have been unable to figure out why both algorithms do not work on the network with just terminals and tramhubs. I would really appreciate some input on the matter."
   ]
  }
 ],
 "metadata": {
  "kernelspec": {
   "display_name": "base",
   "language": "python",
   "name": "python3"
  },
  "language_info": {
   "codemirror_mode": {
    "name": "ipython",
    "version": 3
   },
   "file_extension": ".py",
   "mimetype": "text/x-python",
   "name": "python",
   "nbconvert_exporter": "python",
   "pygments_lexer": "ipython3",
   "version": "3.11.4"
  }
 },
 "nbformat": 4,
 "nbformat_minor": 2
}
